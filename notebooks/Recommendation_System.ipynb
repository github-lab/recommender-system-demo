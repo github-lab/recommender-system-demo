{
 "cells": [
  {
   "cell_type": "markdown",
   "metadata": {},
   "source": [
    "# Recommender Systems\n",
    "\n",
    "This is an implementation of a recommender system based on the popular item-item collaborative filtering. It uses the centered cosine similarity metric (achieved by imputing all unrated items for each user with the mean rating of all items that the user has rated, and then taking a simple pearson correlation)\n",
    "\n",
    "The input to train the model is a dataframe with columns that represent *UserID, ItemID, and Rating* (need to indicate which is which during training)"
   ]
  },
  {
   "cell_type": "code",
   "execution_count": 21,
   "metadata": {
    "collapsed": true
   },
   "outputs": [],
   "source": [
    "import numpy as np\n",
    "import pandas as pd\n",
    "import json\n",
    "\n",
    "class recommender():\n",
    "    def __init__(self):\n",
    "        self.item_sim=None\n",
    "        self.popular_items=None\n",
    "        self.ratings_df=None\n",
    "    \n",
    "    def fit(self, ratings_df, user_id, item_id, ratings):\n",
    "        assert type(ratings_df) == pd.core.frame.DataFrame\n",
    "        #assert set([user_id, item_id, rating]) < set(ratings_df.columns)\n",
    "        self.ratings_df=ratings_df.copy()\n",
    "        self.ratings_df=self.ratings_df.rename(columns={user_id: 'user_id', item_id: 'item_id', ratings: 'ratings'})\n",
    "        ratings_pivot=self.ratings_df.pivot(index='user_id', columns='item_id', values='ratings').transpose()\n",
    "        \n",
    "        for i in ratings_pivot.index:\n",
    "            ratings_pivot.loc[i,:].fillna((ratings_pivot.loc[i,:].mean()), inplace=True)\n",
    "        \n",
    "        self.item_frequency=self.ratings_df.dropna()['item_id'].value_counts()\n",
    "        self.ratings_pivot=ratings_pivot.copy() # remove later...not used\n",
    "        self.item_sim=ratings_pivot.transpose().corr().copy()\n",
    "        \n",
    "        self.min_rating=self.ratings_df['ratings'].min()\n",
    "        self.max_rating=self.ratings_df['ratings'].max()\n",
    "        self.find_popular_items()\n",
    "        \n",
    "    def find_popular_items(self):\n",
    "        self.popular_items=self.ratings_df.groupby(['item_id'])['ratings'].mean().sort_values(ascending=False)\n",
    "    \n",
    "    def score(self,user_id, item_id, Nmax=20):\n",
    "        assert Nmax > 1\n",
    "        \n",
    "        items_rated_by_user=self.ratings_df[self.ratings_df['user_id']==user_id].dropna()\n",
    "\n",
    "        if items_rated_by_user.empty:\n",
    "            popular = self.popular_items.index[0] \n",
    "            return popular\n",
    "        \n",
    "        \n",
    "        item_sim_ratings=pd.DataFrame(self.item_sim.loc[item_id]).reset_index()\n",
    "        item_sim_ratings.columns=['item_id', 'sim']\n",
    "        \n",
    "        df_temp=items_rated_by_user.merge(item_sim_ratings).sort_values('sim', ascending=False).iloc[0:Nmax]\n",
    "        #retval= np.average(df_temp['ratings'], weights=df_temp['sim'])\n",
    "        \n",
    "        #this compensates for pathelogical cases where negative correltions dominate\n",
    "        ret_num = (df_temp['ratings'] * df_temp['sim']).sum()\n",
    "        ret_den = df_temp['sim'].abs().sum()\n",
    "        retval= ret_num/(1.0*ret_den)\n",
    "        \n",
    "        return np.clip(retval, self.min_rating, self.max_rating)\n",
    "    \n",
    "    def items_to_search(self, user_id, k=50):\n",
    "        items_rated_by_user=self.ratings_df[self.ratings_df['user_id']==user_id].dropna()['item_id']\n",
    "        items_not_rated_by_user=set(self.ratings_df['item_id'])-set(items_rated_by_user)\n",
    "        data=[self.item_frequency[i] for i in items_not_rated_by_user]\n",
    "        topk=pd.Series(data=data, index=items_not_rated_by_user).nlargest(k).index\n",
    "        \n",
    "        #return list(items_not_rated_by_user)\n",
    "        return list(topk)\n",
    "        \n",
    "    \n",
    "    def calculate_all_item_suggestions(self, user_id, max_suggestions=30):\n",
    "        item_search_list=self.items_to_search(user_id, k=max_suggestions)\n",
    "        scores={}\n",
    "        for item_id in item_search_list:\n",
    "            s= self.score(user_id,item_id, 30) #Nmax=30\n",
    "            scores[item_id]=s\n",
    "        return pd.Series(scores)\n",
    "    \n",
    "    def reco_topk_items_for_user(self, user_id, k=10, ret_json=False):\n",
    "        \"\"\"\n",
    "        inputs:\n",
    "            user_id - id of user for which recommendations are being requested\n",
    "            k - number of suggestions to return\n",
    "        outputs\n",
    "            item_id, predicted rating  - for top k recommended items\n",
    "        \"\"\"\n",
    "        try:\n",
    "            retval=self.calculate_all_item_suggestions(user_id).nlargest(k)\n",
    "            if ret_json:\n",
    "                return retval.to_json()\n",
    "            else:\n",
    "                return retval\n",
    "        except:\n",
    "            print('error has occured')\n",
    "            return -1"
   ]
  },
  {
   "cell_type": "markdown",
   "metadata": {},
   "source": [
    "## MovieLens"
   ]
  },
  {
   "cell_type": "code",
   "execution_count": 2,
   "metadata": {
    "collapsed": true
   },
   "outputs": [],
   "source": [
    "### Read Users, Movies, and Ratings Files"
   ]
  },
  {
   "cell_type": "code",
   "execution_count": 2,
   "metadata": {
    "collapsed": false
   },
   "outputs": [],
   "source": [
    "u_cols = ['user_id', 'age', 'sex', 'occupation', 'zip_code']\n",
    "users = pd.read_csv('ml-100k/u.user', sep='|', names=u_cols,  encoding='latin-1')\n",
    "\n",
    "#Reading ratings file:\n",
    "r_cols = ['user_id', 'movie_id', 'rating', 'unix_timestamp']\n",
    "ratings = pd.read_csv('ml-100k/u.data', sep='\\t', names=r_cols,  encoding='latin-1')\n",
    "\n",
    "#Reading items file:\n",
    "i_cols = ['movie_id', 'movie title' ,'release date','video release date', 'IMDb URL', 'unknown', 'Action', 'Adventure',\n",
    " 'Animation', 'Children\\'s', 'Comedy', 'Crime', 'Documentary', 'Drama', 'Fantasy',\n",
    " 'Film-Noir', 'Horror', 'Musical', 'Mystery', 'Romance', 'Sci-Fi', 'Thriller', 'War', 'Western']\n",
    "items = pd.read_csv('ml-100k/u.item', sep='|', names=i_cols,  encoding='latin-1')\n",
    "\n",
    "movies100k = pd.merge(pd.merge(ratings, users), items)[['user_id', 'movie_id', 'rating']]"
   ]
  },
  {
   "cell_type": "code",
   "execution_count": 22,
   "metadata": {
    "collapsed": true
   },
   "outputs": [],
   "source": [
    "reco100k=recommender()\n",
    "reco100k.fit(movies100k, user_id='user_id', item_id='movie_id', ratings='rating')"
   ]
  },
  {
   "cell_type": "code",
   "execution_count": 26,
   "metadata": {
    "collapsed": false
   },
   "outputs": [],
   "source": [
    "#reco100k.score(user_id=25, item_id=14, Nmax=2)"
   ]
  },
  {
   "cell_type": "code",
   "execution_count": 33,
   "metadata": {
    "collapsed": false
   },
   "outputs": [],
   "source": [
    "temp=reco100k.reco_topk_items_for_user(user_id=201)\n",
    "recos=items[items['movie_id'].isin(temp.index)]\n",
    "recos[['movie title']].to_json()"
   ]
  },
  {
   "cell_type": "code",
   "execution_count": 32,
   "metadata": {
    "collapsed": false
   },
   "outputs": [
    {
     "data": {
      "text/html": [
       "<div>\n",
       "<table border=\"1\" class=\"dataframe\">\n",
       "  <thead>\n",
       "    <tr style=\"text-align: right;\">\n",
       "      <th></th>\n",
       "      <th>movie title</th>\n",
       "    </tr>\n",
       "  </thead>\n",
       "  <tbody>\n",
       "    <tr>\n",
       "      <th>131</th>\n",
       "      <td>Wizard of Oz, The (1939)</td>\n",
       "    </tr>\n",
       "    <tr>\n",
       "      <th>134</th>\n",
       "      <td>2001: A Space Odyssey (1968)</td>\n",
       "    </tr>\n",
       "    <tr>\n",
       "      <th>150</th>\n",
       "      <td>Willy Wonka and the Chocolate Factory (1971)</td>\n",
       "    </tr>\n",
       "    <tr>\n",
       "      <th>193</th>\n",
       "      <td>Sting, The (1973)</td>\n",
       "    </tr>\n",
       "    <tr>\n",
       "      <th>207</th>\n",
       "      <td>Young Frankenstein (1974)</td>\n",
       "    </tr>\n",
       "    <tr>\n",
       "      <th>234</th>\n",
       "      <td>Mars Attacks! (1996)</td>\n",
       "    </tr>\n",
       "    <tr>\n",
       "      <th>297</th>\n",
       "      <td>Face/Off (1997)</td>\n",
       "    </tr>\n",
       "    <tr>\n",
       "      <th>426</th>\n",
       "      <td>To Kill a Mockingbird (1962)</td>\n",
       "    </tr>\n",
       "    <tr>\n",
       "      <th>473</th>\n",
       "      <td>Dr. Strangelove or: How I Learned to Stop Worr...</td>\n",
       "    </tr>\n",
       "    <tr>\n",
       "      <th>495</th>\n",
       "      <td>It's a Wonderful Life (1946)</td>\n",
       "    </tr>\n",
       "  </tbody>\n",
       "</table>\n",
       "</div>"
      ],
      "text/plain": [
       "                                           movie title\n",
       "131                           Wizard of Oz, The (1939)\n",
       "134                       2001: A Space Odyssey (1968)\n",
       "150       Willy Wonka and the Chocolate Factory (1971)\n",
       "193                                  Sting, The (1973)\n",
       "207                          Young Frankenstein (1974)\n",
       "234                               Mars Attacks! (1996)\n",
       "297                                    Face/Off (1997)\n",
       "426                       To Kill a Mockingbird (1962)\n",
       "473  Dr. Strangelove or: How I Learned to Stop Worr...\n",
       "495                       It's a Wonderful Life (1946)"
      ]
     },
     "execution_count": 32,
     "metadata": {},
     "output_type": "execute_result"
    }
   ],
   "source": [
    "recos[['movie title']]"
   ]
  },
  {
   "cell_type": "code",
   "execution_count": null,
   "metadata": {
    "collapsed": true
   },
   "outputs": [],
   "source": []
  }
 ],
 "metadata": {
  "anaconda-cloud": {},
  "kernelspec": {
   "display_name": "Python [conda root]",
   "language": "python",
   "name": "conda-root-py"
  },
  "language_info": {
   "codemirror_mode": {
    "name": "ipython",
    "version": 3
   },
   "file_extension": ".py",
   "mimetype": "text/x-python",
   "name": "python",
   "nbconvert_exporter": "python",
   "pygments_lexer": "ipython3",
   "version": "3.5.2"
  }
 },
 "nbformat": 4,
 "nbformat_minor": 1
}
